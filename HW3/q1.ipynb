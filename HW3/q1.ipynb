{
 "cells": [
  {
   "cell_type": "heading",
   "metadata": {
    "collapsed": true
   },
   "level": 1,
   "source": [
    "a."
   ]
  },
  {
   "cell_type": "markdown",
   "metadata": {},
   "source": [
    "solving the problem:  **min** *1/2 x<sup>T</sup>Ax − b<sup>T</sup>x*\n",
    "<br/>using *tridiag* or *hilb* matrices as *A*"
   ]
  },
  {
   "cell_type": "code",
   "execution_count": 1,
   "metadata": {},
   "outputs": [],
   "source": [
    "from HW3.matrices import *\n",
    "from HW3.linear_conjugate_gradient import *\n",
    "from numpy.linalg import norm"
   ]
  },
  {
   "cell_type": "code",
   "execution_count": 2,
   "metadata": {},
   "outputs": [
    {
     "name": "stdout",
     "output_type": "stream",
     "text": [
      "residual:  7.797360435981838e-09 , solved in 0.005926847457885742 seconds\n"
     ]
    }
   ],
   "source": [
    "n = 100\n",
    "b = np.ones(n)\n",
    "\n",
    "A = tridiag(size=n)\n",
    "linear_CG_solver = LinearConjugateGradient(A, b)\n",
    "\n",
    "x_star, delta_sec = linear_CG_solver.solve()\n",
    "print('residual: ', norm(linear_CG_solver.residual()), ', solved in {} seconds'.format(delta_sec))"
   ]
  },
  {
   "cell_type": "code",
   "execution_count": 3,
   "metadata": {},
   "outputs": [
    {
     "name": "stdout",
     "output_type": "stream",
     "text": [
      "residual:  1.0142857558913403e-12 , solved in 0.00038313865661621094 seconds\n"
     ]
    }
   ],
   "source": [
    "A = hilb(size=n)\n",
    "linear_CG_solver = LinearConjugateGradient(A, b)\n",
    "\n",
    "x_start, delta_sec = linear_CG_solver.solve()\n",
    "print('residual: ', norm(linear_CG_solver.residual()), ', solved in {} seconds'.format(delta_sec))"
   ]
  },
  {
   "cell_type": "code",
   "execution_count": 4,
   "metadata": {},
   "outputs": [
    {
     "name": "stdout",
     "output_type": "stream",
     "text": [
      "residual:  5.14652203292069e-09 , solved in 0.003955841064453125 seconds\n"
     ]
    }
   ],
   "source": [
    "n = 400\n",
    "b = np.ones(n)\n",
    "\n",
    "A = tridiag(size=n)\n",
    "linear_CG_solver = LinearConjugateGradient(A, b)\n",
    "\n",
    "x_star, delta_sec = linear_CG_solver.solve()\n",
    "print('residual: ', norm(linear_CG_solver.residual()), ', solved in {} seconds'.format(delta_sec))"
   ]
  },
  {
   "cell_type": "code",
   "execution_count": 5,
   "metadata": {},
   "outputs": [
    {
     "name": "stdout",
     "output_type": "stream",
     "text": [
      "residual:  2.0576431981806554e-10 , solved in 0.004828214645385742 seconds\n"
     ]
    }
   ],
   "source": [
    "A = hilb(size=n)\n",
    "linear_CG_solver = LinearConjugateGradient(A, b)\n",
    "\n",
    "x_start, delta_sec = linear_CG_solver.solve()\n",
    "print('residual: ', norm(linear_CG_solver.residual()), ', solved in {} seconds'.format(delta_sec))"
   ]
  },
  {
   "cell_type": "code",
   "execution_count": 6,
   "metadata": {},
   "outputs": [
    {
     "name": "stdout",
     "output_type": "stream",
     "text": [
      "residual:  2.7159542550509402e-09 , solved in 0.0326080322265625 seconds\n"
     ]
    }
   ],
   "source": [
    "n = 1600\n",
    "b = np.ones(n)\n",
    "\n",
    "A = tridiag(size=n)\n",
    "linear_CG_solver = LinearConjugateGradient(A, b)\n",
    "\n",
    "x_star, delta_sec = linear_CG_solver.solve()\n",
    "print('residual: ', norm(linear_CG_solver.residual()), ', solved in {} seconds'.format(delta_sec))"
   ]
  },
  {
   "cell_type": "code",
   "execution_count": 7,
   "metadata": {},
   "outputs": [
    {
     "name": "stdout",
     "output_type": "stream",
     "text": [
      "residual:  1.1412611174331544e-09 , solved in 0.004086017608642578 seconds\n"
     ]
    }
   ],
   "source": [
    "A = hilb(size=n)\n",
    "linear_CG_solver = LinearConjugateGradient(A, b)\n",
    "\n",
    "x_start, delta_sec = linear_CG_solver.solve()\n",
    "print('residual: ', norm(linear_CG_solver.residual()), ', solved in {} seconds'.format(delta_sec))"
   ]
  },
  {
   "cell_type": "heading",
   "metadata": {},
   "level": 1,
   "source": [
    "b."
   ]
  },
  {
   "cell_type": "markdown",
   "metadata": {},
   "source": [
    "now *A* is *stochastic*"
   ]
  },
  {
   "cell_type": "code",
   "execution_count": 2,
   "metadata": {},
   "outputs": [],
   "source": [
    "stochastic_limit = 1e-6"
   ]
  },
  {
   "cell_type": "code",
   "execution_count": 4,
   "metadata": {},
   "outputs": [
    {
     "name": "stdout",
     "output_type": "stream",
     "text": [
      "residual on A_hat:  8.204819989184117e-09\ndelta A:  5.755493298436531e-05\ndelta x:  1.4036037963420186e-05\n"
     ]
    }
   ],
   "source": [
    "n = 100\n",
    "b = np.ones(n)\n",
    "\n",
    "A = tridiag(size=n)\n",
    "stochastic_delta_A = np.random.rand(*np.shape(A)) * stochastic_limit\n",
    "A_hat = A + stochastic_delta_A\n",
    "linear_CG_solver = LinearConjugateGradient(A_hat, b)\n",
    "x_star_hat, _ = linear_CG_solver.solve()\n",
    "x_star, _ = LinearConjugateGradient(A, b).solve()\n",
    "print('residual on A_hat: ', norm(linear_CG_solver.residual()))\n",
    "print('delta A: ', norm(stochastic_delta_A))\n",
    "print('delta x: ', norm(x_star - x_star_hat))"
   ]
  },
  {
   "cell_type": "code",
   "execution_count": null,
   "metadata": {},
   "outputs": [],
   "source": []
  },
  {
   "cell_type": "code",
   "execution_count": 13,
   "metadata": {},
   "outputs": [
    {
     "name": "stdout",
     "output_type": "stream",
     "text": [
      "residual on A_hat:  0.00043200674317637035\ndelta A:  5.7553522979041694e-05\ndelta x:  24.32477786700784\n"
     ]
    }
   ],
   "source": [
    "A = hilb(size=n)\n",
    "stochastic_delta_A = np.random.rand(*np.shape(A)) * stochastic_limit\n",
    "A_hat = A + stochastic_delta_A\n",
    "linear_CG_solver = LinearConjugateGradient(A_hat, b)\n",
    "x_star_hat, _ = linear_CG_solver.solve()\n",
    "x_star, _ = LinearConjugateGradient(A, b).solve()\n",
    "print('residual on A_hat: ', norm(linear_CG_solver.residual()))\n",
    "print('delta A: ', norm(stochastic_delta_A))\n",
    "print('delta x: ', norm(x_star - x_star_hat))"
   ]
  },
  {
   "cell_type": "code",
   "execution_count": 3,
   "metadata": {},
   "outputs": [
    {
     "name": "stdout",
     "output_type": "stream",
     "text": [
      "residual on A_hat:  5.2075938615853814e-09\ndelta A:  0.0002310604818404229\ndelta x:  0.0001116777378730752\n"
     ]
    }
   ],
   "source": [
    "n = 400\n",
    "b = np.ones(n)\n",
    "\n",
    "A = tridiag(size=n)\n",
    "stochastic_delta_A = np.random.rand(*np.shape(A)) * stochastic_limit\n",
    "A_hat = A + stochastic_delta_A\n",
    "linear_CG_solver = LinearConjugateGradient(A_hat, b)\n",
    "x_star_hat, _ = linear_CG_solver.solve()\n",
    "x_star, _ = LinearConjugateGradient(A, b).solve()\n",
    "print('residual on A_hat: ', norm(linear_CG_solver.residual()))\n",
    "print('delta A: ', norm(stochastic_delta_A))\n",
    "print('delta x: ', norm(x_star - x_star_hat))"
   ]
  },
  {
   "cell_type": "code",
   "execution_count": 4,
   "metadata": {},
   "outputs": [
    {
     "name": "stdout",
     "output_type": "stream",
     "text": [
      "residual on A_hat:  5.220075831384409e+24\ndelta A:  0.00023085237736255682\ndelta x:  2.6466937438319497e+27\n"
     ]
    }
   ],
   "source": [
    "A = hilb(size=n)\n",
    "stochastic_delta_A = np.random.rand(*np.shape(A)) * stochastic_limit\n",
    "A_hat = A + stochastic_delta_A\n",
    "linear_CG_solver = LinearConjugateGradient(A_hat, b)\n",
    "x_star_hat, _ = linear_CG_solver.solve()\n",
    "x_star, _ = LinearConjugateGradient(A, b).solve()\n",
    "print('residual on A_hat: ', norm(linear_CG_solver.residual()))\n",
    "print('delta A: ', norm(stochastic_delta_A))\n",
    "print('delta x: ', norm(x_star - x_star_hat))"
   ]
  },
  {
   "cell_type": "code",
   "execution_count": 5,
   "metadata": {},
   "outputs": [
    {
     "name": "stdout",
     "output_type": "stream",
     "text": [
      "residual on A_hat:  2.790433487414448e-09\ndelta A:  0.0009234726713381692\ndelta x:  0.0008894627618405235\n"
     ]
    }
   ],
   "source": [
    "n = 1600\n",
    "b = np.ones(n)\n",
    "\n",
    "A = tridiag(size=n)\n",
    "stochastic_delta_A = np.random.rand(*np.shape(A)) * stochastic_limit\n",
    "A_hat = A + stochastic_delta_A\n",
    "linear_CG_solver = LinearConjugateGradient(A_hat, b)\n",
    "x_star_hat, _ = linear_CG_solver.solve()\n",
    "x_star, _ = LinearConjugateGradient(A, b).solve()\n",
    "print('residual on A_hat: ', norm(linear_CG_solver.residual()))\n",
    "print('delta A: ', norm(stochastic_delta_A))\n",
    "print('delta x: ', norm(x_star - x_star_hat))"
   ]
  },
  {
   "cell_type": "code",
   "execution_count": 6,
   "metadata": {},
   "outputs": [
    {
     "name": "stdout",
     "output_type": "stream",
     "text": [
      "residual on A_hat:  0.08062982061699712\ndelta A:  0.0009239047895468748\ndelta x:  144.079870041402\n"
     ]
    }
   ],
   "source": [
    "A = hilb(size=n)\n",
    "stochastic_delta_A = np.random.rand(*np.shape(A)) * stochastic_limit\n",
    "A_hat = A + stochastic_delta_A\n",
    "linear_CG_solver = LinearConjugateGradient(A_hat, b)\n",
    "x_star_hat, _ = linear_CG_solver.solve()\n",
    "x_star, _ = LinearConjugateGradient(A, b).solve()\n",
    "print('residual on A_hat: ', norm(linear_CG_solver.residual()))\n",
    "print('delta A: ', norm(stochastic_delta_A))\n",
    "print('delta x: ', norm(x_star - x_star_hat))"
   ]
  }
 ],
 "metadata": {
  "kernelspec": {
   "display_name": "Python 2",
   "language": "python",
   "name": "python2"
  },
  "language_info": {
   "codemirror_mode": {
    "name": "ipython",
    "version": 2
   },
   "file_extension": ".py",
   "mimetype": "text/x-python",
   "name": "python",
   "nbconvert_exporter": "python",
   "pygments_lexer": "ipython2",
   "version": "2.7.6"
  }
 },
 "nbformat": 4,
 "nbformat_minor": 0
}
