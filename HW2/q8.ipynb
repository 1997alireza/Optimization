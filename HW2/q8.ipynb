{
 "cells": [
  {
   "cell_type": "code",
   "execution_count": 1,
   "metadata": {
    "collapsed": true
   },
   "outputs": [],
   "source": [
    "from HW2.line_search_algorithms import *\n",
    "from HW2.functions import RosenbrockProvider"
   ]
  },
  {
   "cell_type": "code",
   "execution_count": 2,
   "metadata": {},
   "outputs": [],
   "source": [
    "in_x = [\n",
    "        np.array([1.2, 1.2]),\n",
    "        np.array([-1.2, 1])\n",
    "]\n",
    "function_provider = RosenbrockProvider()"
   ]
  },
  {
   "cell_type": "code",
   "execution_count": 3,
   "metadata": {},
   "outputs": [
    {
     "name": "stdout",
     "output_type": "stream",
     "text": [
      "number of steps:  285\nnumber of steps:  1147\nResults: [array([1.00100739, 1.00201919]), array([0.99902909, 0.99805432])]\n"
     ]
    }
   ],
   "source": [
    "print('Results:', [line_search(xi, function_provider, steepest_descent_direction) for xi in in_x])"
   ]
  },
  {
   "cell_type": "code",
   "execution_count": 4,
   "metadata": {},
   "outputs": [
    {
     "name": "stdout",
     "output_type": "stream",
     "text": [
      "number of steps:  7\nnumber of steps:  21\nResults: [array([1.0000101 , 1.00001876]), array([0.99999994, 0.99999987])]\n"
     ]
    }
   ],
   "source": [
    "print('Results:', [line_search(xi, function_provider, newton_direction) for xi in in_x])"
   ]
  },
  {
   "cell_type": "code",
   "execution_count": 5,
   "metadata": {},
   "outputs": [
    {
     "name": "stdout",
     "output_type": "stream",
     "text": [
      "number of steps:  8\nnumber of steps:  29\nResults: [array([1.00001316, 1.0000253 ]), array([0.99995636, 0.99991369])]\n"
     ]
    }
   ],
   "source": [
    "print('Results:', [line_search(xi, function_provider, BFGS_direction) for xi in in_x])"
   ]
  },
  {
   "cell_type": "code",
   "execution_count": null,
   "metadata": {},
   "outputs": [],
   "source": []
  }
 ],
 "metadata": {
  "kernelspec": {
   "display_name": "Python 2",
   "language": "python",
   "name": "python2"
  },
  "language_info": {
   "codemirror_mode": {
    "name": "ipython",
    "version": 2
   },
   "file_extension": ".py",
   "mimetype": "text/x-python",
   "name": "python",
   "nbconvert_exporter": "python",
   "pygments_lexer": "ipython2",
   "version": "2.7.6"
  }
 },
 "nbformat": 4,
 "nbformat_minor": 0
}
