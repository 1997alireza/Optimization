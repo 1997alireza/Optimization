{
 "cells": [
  {
   "cell_type": "code",
   "execution_count": 1,
   "metadata": {
    "collapsed": true
   },
   "outputs": [],
   "source": [
    "from HW2.line_search_algorithms import *"
   ]
  },
  {
   "cell_type": "code",
   "execution_count": 2,
   "metadata": {},
   "outputs": [],
   "source": [
    "in_x = [\n",
    "        np.array([1.2, 1.2]),\n",
    "        np.array([-1.2, 1])\n",
    "    ]"
   ]
  },
  {
   "cell_type": "code",
   "execution_count": 5,
   "metadata": {},
   "outputs": [
    {
     "name": "stdout",
     "output_type": "stream",
     "text": [
      "number of steps:  568\nnumber of steps:  1001\nResults: [array([1.00105102, 1.00210787]), array([0.99522458, 0.99045245])]\n"
     ]
    }
   ],
   "source": [
    "print('Results:', [line_search(xi, steepest_descent_direction) for xi in in_x])"
   ]
  },
  {
   "cell_type": "code",
   "execution_count": 6,
   "metadata": {},
   "outputs": [
    {
     "name": "stdout",
     "output_type": "stream",
     "text": [
      "number of steps:  7\nnumber of steps:  21\nResults: [array([1.0000101 , 1.00001876]), array([0.99999994, 0.99999987])]\n"
     ]
    }
   ],
   "source": [
    "print('Results:', [line_search(xi, newton_direction) for xi in in_x])"
   ]
  },
  {
   "cell_type": "code",
   "execution_count": 7,
   "metadata": {},
   "outputs": [
    {
     "name": "stdout",
     "output_type": "stream",
     "text": [
      "number of steps:  8\nnumber of steps:  29\nResults: [array([1.00001316, 1.0000253 ]), array([0.99995782, 0.9999166 ])]\n"
     ]
    }
   ],
   "source": [
    "print('Results:', [line_search(xi, BFGS_direction) for xi in in_x])"
   ]
  },
  {
   "cell_type": "code",
   "execution_count": null,
   "metadata": {},
   "outputs": [],
   "source": []
  }
 ],
 "metadata": {
  "kernelspec": {
   "display_name": "Python 2",
   "language": "python",
   "name": "python2"
  },
  "language_info": {
   "codemirror_mode": {
    "name": "ipython",
    "version": 2
   },
   "file_extension": ".py",
   "mimetype": "text/x-python",
   "name": "python",
   "nbconvert_exporter": "python",
   "pygments_lexer": "ipython2",
   "version": "2.7.6"
  }
 },
 "nbformat": 4,
 "nbformat_minor": 0
}
