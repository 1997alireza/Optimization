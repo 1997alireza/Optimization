{
 "cells": [
  {
   "cell_type": "code",
   "execution_count": 1,
   "metadata": {
    "collapsed": true
   },
   "outputs": [],
   "source": [
    "from HW2.trust_region_algorithms import *\n",
    "from HW2.tools import RosenbrockProvider"
   ]
  },
  {
   "cell_type": "code",
   "execution_count": 2,
   "metadata": {},
   "outputs": [],
   "source": [
    "in_x = [\n",
    "        np.array([1.2, 1.2]),\n",
    "        np.array([-1.2, 1])\n",
    "]\n",
    "function_provider = RosenbrockProvider()"
   ]
  },
  {
   "cell_type": "code",
   "execution_count": 4,
   "metadata": {
    "collapsed": false
   },
   "outputs": [
    {
     "name": "stdout",
     "output_type": "stream",
     "text": [
      "number of steps:  10000\n"
     ]
    },
    {
     "name": "stdout",
     "output_type": "stream",
     "text": [
      "number of steps:  8527\nResults: [array([1.00001145, 1.00002291]), array([1., 1.])]\n"
     ]
    }
   ],
   "source": [
    "print('Results:', [trust_region(xi, function_provider, cauchy_point, plot=True) for xi in in_x])"
   ]
  },
  {
   "cell_type": "code",
   "execution_count": 6,
   "metadata": {
    "collapsed": false
   },
   "outputs": [
    {
     "name": "stdout",
     "output_type": "stream",
     "text": [
      "number of steps:  11\nnumber of steps:  29\nResults: [array([1., 1.]), array([1., 1.])]\n"
     ]
    }
   ],
   "source": [
    "print('Results:', [trust_region(xi, function_provider, dog_leg, plot=True) for xi in in_x])"
   ]
  },
  {
   "cell_type": "code",
   "execution_count": null,
   "metadata": {},
   "outputs": [],
   "source": []
  }
 ],
 "metadata": {
  "kernelspec": {
   "display_name": "Python 2",
   "language": "python",
   "name": "python2"
  },
  "language_info": {
   "codemirror_mode": {
    "name": "ipython",
    "version": 2
   },
   "file_extension": ".py",
   "mimetype": "text/x-python",
   "name": "python",
   "nbconvert_exporter": "python",
   "pygments_lexer": "ipython2",
   "version": "2.7.6"
  }
 },
 "nbformat": 4,
 "nbformat_minor": 0
}
